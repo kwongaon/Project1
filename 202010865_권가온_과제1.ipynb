{
  "nbformat": 4,
  "nbformat_minor": 0,
  "metadata": {
    "colab": {
      "name": "202010865_권가온_과제1",
      "provenance": [],
      "collapsed_sections": [],
      "include_colab_link": true
    },
    "kernelspec": {
      "display_name": "Python 3",
      "name": "python3"
    }
  },
  "cells": [
    {
      "cell_type": "markdown",
      "metadata": {
        "id": "view-in-github",
        "colab_type": "text"
      },
      "source": [
        "<a href=\"https://colab.research.google.com/github/kwongaon/Project1/blob/master/202010865_%EA%B6%8C%EA%B0%80%EC%98%A8_%EA%B3%BC%EC%A0%9C1.ipynb\" target=\"_parent\"><img src=\"https://colab.research.google.com/assets/colab-badge.svg\" alt=\"Open In Colab\"/></a>"
      ]
    },
    {
      "cell_type": "code",
      "metadata": {
        "id": "gx9yS3JRj4is",
        "colab": {
          "base_uri": "https://localhost:8080/"
        },
        "outputId": "6afff240-d0b7-4ffe-9cbc-b869063bf6be"
      },
      "source": [
        "a=float(input(\"숫자를 입력하세요 : \"))\r\n",
        "print(round(a,1))\r\n",
        "\r\n",
        "print(74&92)"
      ],
      "execution_count": null,
      "outputs": [
        {
          "output_type": "stream",
          "text": [
            "숫자를 입력하세요 : 24.567\n",
            "24.6\n",
            "72\n"
          ],
          "name": "stdout"
        }
      ]
    },
    {
      "cell_type": "code",
      "metadata": {
        "colab": {
          "base_uri": "https://localhost:8080/"
        },
        "id": "bQ_dhuIpm-d5",
        "outputId": "fa361332-4915-45da-bf94-b0b25dc667ff"
      },
      "source": [
        "b=input(\"주민번호를 입력하시오\")\r\n",
        "print(\"당신이 태어난 해는\",b[0:2]+\"년도 입니다.\")\r\n",
        "print(\"당신이 태어난 월은\",b[2:4]+\"월입니다.\")\r\n",
        "print(\"당신이 태어난 일은\",b[4:6]+\"일입니다.\")"
      ],
      "execution_count": 3,
      "outputs": [
        {
          "output_type": "stream",
          "text": [
            "주민번호를 입력하시오011121-1234567\n",
            "당신이 태어난 해는 01년도 입니다.\n",
            "당신이 태어난 월은 11월입니다.\n",
            "당신이 태어난 일은 21일입니다.\n"
          ],
          "name": "stdout"
        }
      ]
    }
  ]
}